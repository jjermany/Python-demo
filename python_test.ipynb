{
 "cells": [
  {
   "cell_type": "code",
   "execution_count": 50,
   "metadata": {},
   "outputs": [
    {
     "name": "stdout",
     "output_type": "stream",
     "text": [
      "Start\n",
      "6\n"
     ]
    }
   ],
   "source": [
    "def multiply(*numbers):\n",
    "    total = 1\n",
    "    for number in numbers:\n",
    "        total *= number\n",
    "    return total\n",
    "\n",
    "print(\"Start\")\n",
    "print(multiply(1,2,3))"
   ]
  },
  {
   "cell_type": "code",
   "execution_count": 1,
   "metadata": {},
   "outputs": [
    {
     "name": "stdout",
     "output_type": "stream",
     "text": [
      "FizzBuzz\n"
     ]
    }
   ],
   "source": [
    "## FizzBuzz algorithim\n",
    "# This returns a value if the variable is divisible by the set condition\n",
    "\n",
    "def fizz_buzz(input):\n",
    "    if (input % 3 == 0) and (input % 5 == 0):\n",
    "        return \"FizzBuzz\"\n",
    "    if input % 3 == 0:\n",
    "        return \"Fizz\"\n",
    "    if input % 5 == 0:\n",
    "        return \"Buzz\"\n",
    "\n",
    "\n",
    "print(fizz_buzz(15))"
   ]
  },
  {
   "attachments": {},
   "cell_type": "markdown",
   "metadata": {},
   "source": [
    "Data Structures "
   ]
  },
  {
   "cell_type": "code",
   "execution_count": 52,
   "metadata": {},
   "outputs": [
    {
     "name": "stdout",
     "output_type": "stream",
     "text": [
      "['a', 'b', 'c']\n",
      "[[0, 1], [2, 3]]\n",
      "[0, 0, 0, 0, 0]\n",
      "[0, 0, 0, 0, 0, 'a', 'b', 'c']\n",
      "[0, 1, 2, 3, 4, 5, 6, 7, 8, 9, 10, 11, 12, 13, 14, 15, 16, 17, 18, 19]\n",
      "['H', 'e', 'l', 'l', 'o', ' ', 'W', 'o', 'r', 'l', 'd']\n",
      "11\n"
     ]
    }
   ],
   "source": [
    "## Lists\n",
    "\n",
    "letters = [\"a\",\"b\",\"c\"]\n",
    "print(letters)\n",
    "\n",
    "matrix = [[0,1], [2,3]]\n",
    "print(matrix)\n",
    "\n",
    "zeros = [0] * 5\n",
    "print(zeros)\n",
    "\n",
    "combined = zeros + letters\n",
    "print(combined)\n",
    "\n",
    "numbers = list(range(20))\n",
    "print(numbers)\n",
    "\n",
    "chars = list(\"Hello World\")\n",
    "print(chars)\n",
    "print(len(chars)) # prints length of characters"
   ]
  },
  {
   "cell_type": "code",
   "execution_count": 53,
   "metadata": {},
   "outputs": [
    {
     "name": "stdout",
     "output_type": "stream",
     "text": [
      "['A', 'b', 'c']\n",
      "['A', 'b', 'c']\n",
      "[0, 2, 4, 6, 8, 10, 12, 14, 16, 18]\n",
      "[19, 18, 17, 16, 15, 14, 13, 12, 11, 10, 9, 8, 7, 6, 5, 4, 3, 2, 1, 0]\n"
     ]
    }
   ],
   "source": [
    "## Accessing Items\n",
    "\n",
    "letters = [\"a\",\"b\",\"c\",\"d\"]\n",
    "letters[0] = \"A\"\n",
    "print(letters[0:3]) #excluding d from the list of letters\n",
    "print(letters[:3])  #assumes 0 as the number since it is first (same result as above)\n",
    "\n",
    "numbers = list(range(20))\n",
    "print(numbers[::2]) #prints every other number\n",
    "print(numbers[::-1]) #prints backwards"
   ]
  },
  {
   "cell_type": "code",
   "execution_count": 54,
   "metadata": {},
   "outputs": [
    {
     "name": "stdout",
     "output_type": "stream",
     "text": [
      "1\n",
      "[3, 4, 4, 4, 4, 4]\n"
     ]
    }
   ],
   "source": [
    "## Unpacking lists\n",
    "\n",
    "numbers = [1,2,3,4,4,4,4,4]\n",
    "first, second, *other = numbers # the \"*\" packs the values together and makes a list\n",
    "print(first)\n",
    "print(other)\n"
   ]
  },
  {
   "cell_type": "code",
   "execution_count": 55,
   "metadata": {},
   "outputs": [
    {
     "name": "stdout",
     "output_type": "stream",
     "text": [
      "0 a\n",
      "1 b\n",
      "2 c\n"
     ]
    }
   ],
   "source": [
    "## Looping over lists\n",
    "\n",
    "letters = [\"a\", \"b\", \"c\"]\n",
    "\n",
    "for index, letter in enumerate(letters):\n",
    "    print(index, letter)"
   ]
  },
  {
   "cell_type": "code",
   "execution_count": 56,
   "metadata": {},
   "outputs": [
    {
     "name": "stdout",
     "output_type": "stream",
     "text": [
      "[]\n"
     ]
    }
   ],
   "source": [
    "## Add or removing items\n",
    "\n",
    "letters = [\"a\", \"b\", \"c\"]\n",
    "\n",
    "# Add\n",
    "letters.append(\"d\")\n",
    "letters.insert(0, \"-\")\n",
    "\n",
    "\n",
    "# Remove\n",
    "letters.pop(0)\n",
    "letters.remove(\"b\")\n",
    "del letters[0:3]\n",
    "letters.clear()\n",
    "print(letters)"
   ]
  },
  {
   "cell_type": "code",
   "execution_count": 62,
   "metadata": {},
   "outputs": [
    {
     "name": "stdout",
     "output_type": "stream",
     "text": [
      "0\n"
     ]
    }
   ],
   "source": [
    "## Finding Items\n",
    "\n",
    "letters = [\"a\", \"b\", \"c\"]\n",
    "print(letters.count(\"d\"))\n",
    "if \"d\" in letters:\n",
    "    print(letters.index(\"a\"))"
   ]
  },
  {
   "cell_type": "code",
   "execution_count": 78,
   "metadata": {},
   "outputs": [
    {
     "name": "stdout",
     "output_type": "stream",
     "text": [
      "[51, 8, 6, 3, 2]\n",
      "[3, 51, 2, 8, 6]\n"
     ]
    }
   ],
   "source": [
    "## Sorting Lists\n",
    "\n",
    "numbers = [3, 51, 2, 8, 6]\n",
    "#numbers.sort()                      # will sort the numbers\n",
    "#numbers.sort(reverse=True)          # will sort the numbers in reverse\n",
    "print(sorted(numbers))               # will sort the numbers\n",
    "print(sorted(numbers, reverse=True)) # will sort the numbers in reverse\n",
    "print(numbers)"
   ]
  },
  {
   "cell_type": "code",
   "execution_count": 83,
   "metadata": {},
   "outputs": [
    {
     "name": "stdout",
     "output_type": "stream",
     "text": [
      "[('Product2', 9), ('Product1', 10), ('Product3', 12)]\n"
     ]
    }
   ],
   "source": [
    "items = [\n",
    "    (\"Product1\",10),\n",
    "    (\"Product2\", 9),\n",
    "    (\"Product3\", 12),\n",
    "]\n",
    "\n",
    "def sort_item(item):      # this lets us sort by item price. returns the items price. \n",
    "    return item[1]          \n",
    "\n",
    "items.sort(key=sort_item) # the \"key\" function lets us specify our argument above. without it we will get an error\n",
    "print(items)"
   ]
  },
  {
   "cell_type": "code",
   "execution_count": 84,
   "metadata": {},
   "outputs": [
    {
     "name": "stdout",
     "output_type": "stream",
     "text": [
      "[('Product2', 9), ('Product1', 10), ('Product3', 12)]\n"
     ]
    }
   ],
   "source": [
    "## Lambda Functions\n",
    "\n",
    "items = [\n",
    "    (\"Product1\",10),\n",
    "    (\"Product2\", 9),\n",
    "    (\"Product3\", 12),\n",
    "]\n",
    "\n",
    "\n",
    "items.sort(key=lambda item:item[1]) # the \"key\" function lets us specify our argument above. without it we will get an error\n",
    "print(items)"
   ]
  },
  {
   "cell_type": "code",
   "execution_count": 13,
   "metadata": {},
   "outputs": [
    {
     "name": "stdout",
     "output_type": "stream",
     "text": [
      "[10, 9, 12]\n"
     ]
    }
   ],
   "source": [
    "## Map Function\n",
    "\n",
    "items = [\n",
    "    (\"Product1\",10),\n",
    "    (\"Product2\", 9),\n",
    "    (\"Product3\", 12),\n",
    "]\n",
    "\n",
    "prices = list(map(lambda item: item[1], items))\n",
    "print(prices)"
   ]
  },
  {
   "cell_type": "code",
   "execution_count": 16,
   "metadata": {},
   "outputs": [
    {
     "name": "stdout",
     "output_type": "stream",
     "text": [
      "[('Product1', 10), ('Product3', 12)]\n"
     ]
    }
   ],
   "source": [
    "## Filter Function\n",
    "\n",
    "items = [\n",
    "    (\"Product1\",10),\n",
    "    (\"Product2\", 9),\n",
    "    (\"Product3\", 12),\n",
    "]\n",
    "\n",
    "filtered = list(filter(lambda item: item[1] >= 10, items))  # filtering items are that are equal or greater than 10\n",
    "print(filtered)"
   ]
  },
  {
   "cell_type": "code",
   "execution_count": 18,
   "metadata": {},
   "outputs": [],
   "source": [
    "## List Comprehensions\n",
    "\n",
    "items = [\n",
    "    (\"Product1\",10),\n",
    "    (\"Product2\", 9),\n",
    "    (\"Product3\", 12),\n",
    "]\n",
    "\n",
    "prices = list(map(lambda item: item[1], items))\n",
    "prices = [item[1] for item in items]                    # list comprehension is cleaner and shorter. Look at above line for example.\n",
    "\n",
    "filtered = list(filter(lambda item: item[1] >= 10, items))\n",
    "filtered = [item for item in items if item[1] >= 10]    # list comprehension"
   ]
  },
  {
   "cell_type": "code",
   "execution_count": 22,
   "metadata": {},
   "outputs": [
    {
     "name": "stdout",
     "output_type": "stream",
     "text": [
      "[('a', 1, 10), ('b', 2, 20), ('c', 3, 30)]\n"
     ]
    }
   ],
   "source": [
    "## Zip Function\n",
    "\n",
    "list1 = [1,2,3]\n",
    "list2 = [10,20,30]\n",
    "\n",
    "print(list(zip(\"abc\",list1, list2)))"
   ]
  },
  {
   "cell_type": "code",
   "execution_count": 44,
   "metadata": {},
   "outputs": [
    {
     "name": "stdout",
     "output_type": "stream",
     "text": [
      "[1, 2, 3]\n",
      "3\n",
      "[1, 2]\n",
      "redirect 2\n"
     ]
    }
   ],
   "source": [
    "## Stacks\n",
    "\n",
    "browsing_session = [] \n",
    "browsing_session.append(1)              # append method is used to add an item on top of the stack\n",
    "browsing_session.append(2)              # pop is used to remove an item on top of the stack\n",
    "browsing_session.append(3)              # -1 us used to get the item on top of the stack\n",
    "print(browsing_session)                 \n",
    "last = browsing_session.pop()\n",
    "print(last)\n",
    "print(browsing_session)\n",
    "print(\"redirect\",browsing_session[-1])\n",
    "if not browsing_session:                # checks if the stack is empty\n",
    "    browsing_session[-1]"
   ]
  },
  {
   "cell_type": "code",
   "execution_count": 5,
   "metadata": {},
   "outputs": [
    {
     "name": "stdout",
     "output_type": "stream",
     "text": [
      "deque([1])\n",
      "deque([1, 2])\n",
      "deque([1, 2, 3])\n",
      "deque([2, 3])\n"
     ]
    }
   ],
   "source": [
    "# Queues\n",
    "\n",
    "from collections import deque\n",
    "queue = deque([])\n",
    "queue.append(1)\n",
    "print(queue)\n",
    "queue.append(2)\n",
    "print(queue)\n",
    "queue.append(3)\n",
    "print(queue)\n",
    "queue.popleft()\n",
    "print(queue)\n",
    "if not queue:\n",
    "    print(\"empty\")\n"
   ]
  },
  {
   "cell_type": "code",
   "execution_count": 15,
   "metadata": {},
   "outputs": [
    {
     "name": "stdout",
     "output_type": "stream",
     "text": [
      "(1, 2, 3, 4)\n",
      "(1, 2, 1, 2, 1, 2)\n",
      "(1, 2)\n"
     ]
    }
   ],
   "source": [
    "# Tuples (Read only list)\n",
    "\n",
    "point = (1,2) + (3,4)\n",
    "print(point)\n",
    "point = (1,2) * 3\n",
    "print(point)\n",
    "print(point[0:2])\n",
    "if 10 in point:\n",
    "    print(\"exists\")\n",
    "\n",
    "\n"
   ]
  },
  {
   "cell_type": "code",
   "execution_count": 17,
   "metadata": {},
   "outputs": [
    {
     "name": "stdout",
     "output_type": "stream",
     "text": [
      "x 11\n",
      "y 10\n"
     ]
    }
   ],
   "source": [
    "# Swapping Variables\n",
    "\n",
    "x = 10\n",
    "y = 11\n",
    "\n",
    "#z = x\n",
    "#x = y\n",
    "#y = z\n",
    "\n",
    "x,y = y,x\n",
    "a, b = 1,2\n",
    "\n",
    "print(\"x\", x)\n",
    "print(\"y\",y)\n",
    "\n"
   ]
  },
  {
   "cell_type": "code",
   "execution_count": null,
   "metadata": {},
   "outputs": [],
   "source": [
    "# Arrays (Use only if you are dealing with large set of numbers and encounter performance issues)\n",
    "\n",
    "from array import array\n",
    "\n",
    "numbers = array(\"i\"), [1,2,3]\n",
    "numbers[0] = 1.0\n"
   ]
  },
  {
   "cell_type": "code",
   "execution_count": 28,
   "metadata": {},
   "outputs": [
    {
     "name": "stdout",
     "output_type": "stream",
     "text": [
      "{1, 2, 3, 4, 5}\n",
      "{1}\n",
      "{2, 3, 4}\n",
      "{2, 3, 4, 5}\n",
      "yes\n"
     ]
    }
   ],
   "source": [
    "# Sets (collection with no duplicates)\n",
    "\n",
    "numbers = [1,1,2,3,4]\n",
    "first = set(numbers)\n",
    "second = {1,5}\n",
    "\n",
    "print(first | second)\n",
    "print(first & second)\n",
    "print(first - second)\n",
    "print(first ^ second)\n",
    "\n",
    "if 1 in first:\n",
    "    print(\"yes\")"
   ]
  }
 ],
 "metadata": {
  "kernelspec": {
   "display_name": "Python 3",
   "language": "python",
   "name": "python3"
  },
  "language_info": {
   "codemirror_mode": {
    "name": "ipython",
    "version": 3
   },
   "file_extension": ".py",
   "mimetype": "text/x-python",
   "name": "python",
   "nbconvert_exporter": "python",
   "pygments_lexer": "ipython3",
   "version": "3.11.5"
  },
  "orig_nbformat": 4,
  "vscode": {
   "interpreter": {
    "hash": "01df401d51a7a82f40c3ef8b4b70d7a641b815be6dfd549bebea8e46115dd2ee"
   }
  }
 },
 "nbformat": 4,
 "nbformat_minor": 2
}

{
 "cells": [
  {
   "cell_type": "code",
   "execution_count": null,
   "metadata": {},
   "outputs": [],
   "source": [
    "global message\n",
    "def greet(name):\n",
    "    message = \"a\"\n",
    "\n",
    "def send_email(name):\n",
    "    message = \"b\"\n",
    "\n",
    "print(message)\n",
    "\n",
    "greet(\"Jalon\")"
   ]
  }
 ],
 "metadata": {
  "kernelspec": {
   "display_name": "Python 3",
   "language": "python",
   "name": "python3"
  },
  "language_info": {
   "name": "python",
   "version": "3.10.10"
  },
  "orig_nbformat": 4,
  "vscode": {
   "interpreter": {
    "hash": "01df401d51a7a82f40c3ef8b4b70d7a641b815be6dfd549bebea8e46115dd2ee"
   }
  }
 },
 "nbformat": 4,
 "nbformat_minor": 2
}
